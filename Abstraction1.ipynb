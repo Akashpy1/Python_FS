{
 "cells": [
  {
   "cell_type": "raw",
   "id": "f638b037",
   "metadata": {},
   "source": [
    "we have imported the abc module to create the abstract base class. We created the Car class that inherited the ABC class and defined an abstract method named mileage(). We have then inherited the base class from the three different subclasses and implemented the abstract method differently. We created the objects to call the abstract method."
   ]
  },
  {
   "cell_type": "code",
   "execution_count": 1,
   "id": "548c2815",
   "metadata": {},
   "outputs": [
    {
     "name": "stdout",
     "output_type": "stream",
     "text": [
      "The mileage is 30kmph\n",
      "The mileage is 27kmph \n",
      "The mileage is 25kmph \n",
      "The mileage is 24kmph \n"
     ]
    }
   ],
   "source": [
    "# Python program demonstrate  \n",
    "# abstract base class work   \n",
    "from abc import ABC, abstractmethod   \n",
    "class Car(ABC):   \n",
    "    def mileage(self):   \n",
    "        pass  \n",
    "  \n",
    "class Tesla(Car):   \n",
    "    def mileage(self):   \n",
    "        print(\"The mileage is 30kmph\")   \n",
    "class Suzuki(Car):   \n",
    "    def mileage(self):   \n",
    "        print(\"The mileage is 25kmph \")   \n",
    "class Duster(Car):   \n",
    "     def mileage(self):   \n",
    "          print(\"The mileage is 24kmph \")   \n",
    "  \n",
    "class Renault(Car):   \n",
    "    def mileage(self):   \n",
    "            print(\"The mileage is 27kmph \")   \n",
    "          \n",
    "# Driver code   \n",
    "t= Tesla ()   \n",
    "t.mileage()   \n",
    "  \n",
    "r = Renault()   \n",
    "r.mileage()   \n",
    "  \n",
    "s = Suzuki()   \n",
    "s.mileage()   \n",
    "d = Duster()   \n",
    "d.mileage()  "
   ]
  },
  {
   "cell_type": "code",
   "execution_count": 1,
   "id": "38f0ffe0",
   "metadata": {},
   "outputs": [
    {
     "name": "stdout",
     "output_type": "stream",
     "text": [
      "The mileage is 30kmph\n",
      "The mileage is 27kmph \n",
      "The mileage is 25kmph \n",
      "The mileage is 24kmph \n"
     ]
    }
   ],
   "source": [
    "class Tesla():   \n",
    "    def mileage(self):   \n",
    "        print(\"The mileage is 30kmph\")   \n",
    "class Suzuki():   \n",
    "    def mileage(self):   \n",
    "        print(\"The mileage is 25kmph \")   \n",
    "class Duster():   \n",
    "     def mileage(self):   \n",
    "          print(\"The mileage is 24kmph \")   \n",
    "  \n",
    "class Renault():   \n",
    "    def mileage(self):   \n",
    "            print(\"The mileage is 27kmph \")   \n",
    "          \n",
    "# Driver code   \n",
    "t= Tesla ()   \n",
    "t.mileage()   \n",
    "  \n",
    "r = Renault()   \n",
    "r.mileage()   \n",
    "  \n",
    "s = Suzuki()   \n",
    "s.mileage()   \n",
    "d = Duster()   \n",
    "d.mileage()  "
   ]
  },
  {
   "cell_type": "raw",
   "id": "dcc5981a",
   "metadata": {},
   "source": [
    "Abstract Base Class named Polygon and we also defined the abstract method. This base class inherited by the various subclasses. We implemented the abstract method in each subclass. We created the object of the subclasses and invoke the sides() method. The hidden implementations for the sides() method inside the each subclass comes into play. The abstract method sides() method, defined in the abstract class, is never invoked."
   ]
  },
  {
   "cell_type": "raw",
   "id": "0fa6bf42",
   "metadata": {},
   "source": [
    "Below are the points which we should remember about the abstract base class in Python.\n",
    "\n",
    "An Abstract class can contain the both method normal and abstract method.\n",
    "An Abstract cannot be instantiated; we cannot create objects for the abstract class."
   ]
  },
  {
   "cell_type": "code",
   "execution_count": 3,
   "id": "721407a1",
   "metadata": {},
   "outputs": [
    {
     "name": "stdout",
     "output_type": "stream",
     "text": [
      "Triangle has 3 sides\n",
      "I have 4 sides\n",
      "Pentagon has 5 sides\n",
      "Hexagon has 6 sides\n"
     ]
    }
   ],
   "source": [
    "# Python program to define   \n",
    "# abstract class  \n",
    "  \n",
    "from abc import ABC  \n",
    "  \n",
    "class Polygon(ABC):   \n",
    "  \n",
    "   # abstract method   \n",
    "   def sides(self):   \n",
    "      pass  \n",
    "  \n",
    "class Triangle(Polygon):   \n",
    "  \n",
    "     \n",
    "   def sides(self):   \n",
    "      print(\"Triangle has 3 sides\")   \n",
    "  \n",
    "class Pentagon(Polygon):   \n",
    "  \n",
    "     \n",
    "   def sides(self):   \n",
    "      print(\"Pentagon has 5 sides\")   \n",
    "  \n",
    "class Hexagon(Polygon):   \n",
    "  \n",
    "   def sides(self):   \n",
    "      print(\"Hexagon has 6 sides\")   \n",
    "  \n",
    "class square(Polygon):   \n",
    "  \n",
    "   def sides(self):   \n",
    "      print(\"I have 4 sides\")   \n",
    "  \n",
    "# Driver code   \n",
    "t = Triangle()   \n",
    "t.sides()   \n",
    "  \n",
    "s = square()   \n",
    "s.sides()   \n",
    "  \n",
    "p = Pentagon()   \n",
    "p.sides()   \n",
    "  \n",
    "k = Hexagon()   \n",
    "k.sides()  "
   ]
  },
  {
   "cell_type": "code",
   "execution_count": 4,
   "id": "a77e2d07",
   "metadata": {},
   "outputs": [
    {
     "data": {
      "text/plain": [
       "31.4"
      ]
     },
     "execution_count": 4,
     "metadata": {},
     "output_type": "execute_result"
    }
   ],
   "source": [
    "from abc import ABCMeta, abstractmethod\n",
    "\n",
    "class Shape:\n",
    "\n",
    "    __metaclass__ = ABCMeta \n",
    "\n",
    "    def __init__ (self, shapeType):\n",
    "\n",
    "        '''Objective: To initialize object of class Shape Input Parameters:\n",
    "        self (implicit parameter) – object of type Shape\n",
    "        shapeType – string\n",
    "        Return Value: None\n",
    "        '''\n",
    "\n",
    "        self.shapeType = shapeType\n",
    "\n",
    "    @abstractmethod \n",
    "\n",
    "    def area(self) :\n",
    "\n",
    "        pass\n",
    "\n",
    "    @abstractmethod\n",
    "\n",
    "    def perimeter (self):\n",
    "\n",
    "        pass\n",
    "\n",
    "class Rectangle(Shape):\n",
    "\n",
    "    def __init__(self, length, breadth):\n",
    "\n",
    "        '''Objective: To initialize object of class Rectangle Input Parameters: self (implicit parameter) – object of type Rectangle length, breadth – numeric value \n",
    "\n",
    "        Return Value: None '''\n",
    "\n",
    "        Shape.__init__(self, 'Rectangle')\n",
    "\n",
    "        self.length = length \n",
    "\n",
    "        self.breadth = breadth\n",
    "\n",
    "    def area (self):\n",
    "\n",
    "        '''Objective: To compute area of the Rectangle Input Parameter: \n",
    "        self (implicit parameter) object of type Rectangle\n",
    "        Return Value: numeric value\n",
    "        '''\n",
    "\n",
    "        return self.length * self.breadth\n",
    "\n",
    "    def perimeter (self):\n",
    "\n",
    "        return 2 * (self.length + self.breadth)\n",
    "\n",
    "class Circle (Shape):\n",
    "\n",
    "    pi = 3.14\n",
    "\n",
    "    def __init__ (self, radius):\n",
    "\n",
    "        '''Objective: To initialize object of class Circle Input Parameters: self (implicit parameter) – object of type Circle \n",
    "            radius – numeric value \n",
    "            Return Value: None'''\n",
    "\n",
    "        Shape.__init__(self, 'Circle')\n",
    "        self.radius = radius\n",
    "\n",
    "    def area (self):\n",
    "\n",
    "        '''Objective: To compute the area of the Circle\n",
    "\n",
    "        Input Parameter:\n",
    "        self (implicit parameter) – object of type Circle \n",
    "        Return Value: area – numeric value'''\n",
    "\n",
    "        return round(Circle.pi * (self.radius ** 2), 2)\n",
    "\n",
    "    def perimeter(self):\n",
    "\n",
    "        '''Objective: To compute the perimeter of the Circle\n",
    "\n",
    "        Input Parameter:\n",
    "        self (implicit parameter) – object of type Circle\n",
    "        Return Value: perimeter – numeric value'''\n",
    "\n",
    "        return round (2 * Circle.pi * self.radius, 2)\n",
    "rectangle = Rectangle (30, 15)\n",
    "rectangle.area ()\n",
    "\n",
    "rectangle.perimeter ()\n",
    "\n",
    "circle = Circle (5)\n",
    "circle.area ()\n",
    "circle.perimeter ()"
   ]
  },
  {
   "cell_type": "code",
   "execution_count": null,
   "id": "f3ee23b6",
   "metadata": {},
   "outputs": [],
   "source": []
  }
 ],
 "metadata": {
  "kernelspec": {
   "display_name": "Python 3 (ipykernel)",
   "language": "python",
   "name": "python3"
  },
  "language_info": {
   "codemirror_mode": {
    "name": "ipython",
    "version": 3
   },
   "file_extension": ".py",
   "mimetype": "text/x-python",
   "name": "python",
   "nbconvert_exporter": "python",
   "pygments_lexer": "ipython3",
   "version": "3.9.13"
  }
 },
 "nbformat": 4,
 "nbformat_minor": 5
}
