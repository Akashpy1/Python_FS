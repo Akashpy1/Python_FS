{
 "cells": [
  {
   "cell_type": "raw",
   "id": "deb1edec",
   "metadata": {},
   "source": [
    "Two methods with same name with same number of parmeters or arguments \n",
    "it is method overriding"
   ]
  },
  {
   "cell_type": "code",
   "execution_count": 1,
   "id": "46c15c28",
   "metadata": {},
   "outputs": [
    {
     "ename": "AttributeError",
     "evalue": "'B' object has no attribute 'show'",
     "output_type": "error",
     "traceback": [
      "\u001b[1;31m---------------------------------------------------------------------------\u001b[0m",
      "\u001b[1;31mAttributeError\u001b[0m                            Traceback (most recent call last)",
      "\u001b[1;32m~\\AppData\\Local\\Temp\\ipykernel_15276\\4239382268.py\u001b[0m in \u001b[0;36m<module>\u001b[1;34m\u001b[0m\n\u001b[0;32m     10\u001b[0m \u001b[0ma1\u001b[0m\u001b[1;33m=\u001b[0m\u001b[0mB\u001b[0m\u001b[1;33m(\u001b[0m\u001b[1;33m)\u001b[0m\u001b[1;33m\u001b[0m\u001b[1;33m\u001b[0m\u001b[0m\n\u001b[0;32m     11\u001b[0m \u001b[1;33m\u001b[0m\u001b[0m\n\u001b[1;32m---> 12\u001b[1;33m \u001b[0ma1\u001b[0m\u001b[1;33m.\u001b[0m\u001b[0mshow\u001b[0m\u001b[1;33m(\u001b[0m\u001b[1;33m)\u001b[0m\u001b[1;33m\u001b[0m\u001b[1;33m\u001b[0m\u001b[0m\n\u001b[0m",
      "\u001b[1;31mAttributeError\u001b[0m: 'B' object has no attribute 'show'"
     ]
    }
   ],
   "source": [
    "########################Error#########################################\n",
    "class A:  \n",
    "     \n",
    "    def show(self):  \n",
    "         print(\"In 1 working\") \n",
    "\n",
    "class B:  \n",
    "     pass\n",
    "    \n",
    "a1=B()\n",
    "\n",
    "a1.show()"
   ]
  },
  {
   "cell_type": "code",
   "execution_count": 2,
   "id": "7206848d",
   "metadata": {},
   "outputs": [
    {
     "name": "stdout",
     "output_type": "stream",
     "text": [
      "In 2 working\n"
     ]
    }
   ],
   "source": [
    "#########################Phone ex#################################\n",
    "class A:  \n",
    "     \n",
    "    def show(self):  \n",
    "         print(\"In 1 working\") \n",
    "\n",
    "class B(A):  \n",
    "    \n",
    "    def show(self): \n",
    "        print(\"In 2 working\") \n",
    "    \n",
    "a1=B()\n",
    "\n",
    "a1.show()"
   ]
  },
  {
   "cell_type": "code",
   "execution_count": null,
   "id": "7869c4b5",
   "metadata": {},
   "outputs": [],
   "source": []
  }
 ],
 "metadata": {
  "kernelspec": {
   "display_name": "Python 3 (ipykernel)",
   "language": "python",
   "name": "python3"
  },
  "language_info": {
   "codemirror_mode": {
    "name": "ipython",
    "version": 3
   },
   "file_extension": ".py",
   "mimetype": "text/x-python",
   "name": "python",
   "nbconvert_exporter": "python",
   "pygments_lexer": "ipython3",
   "version": "3.9.13"
  }
 },
 "nbformat": 4,
 "nbformat_minor": 5
}
