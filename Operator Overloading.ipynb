{
 "cells": [
  {
   "cell_type": "raw",
   "id": "bcd5b9ae",
   "metadata": {},
   "source": [
    "To overload the + operator, we will need to implement __add__() function in the class"
   ]
  },
  {
   "cell_type": "code",
   "execution_count": 1,
   "id": "6dfb1c3c",
   "metadata": {},
   "outputs": [
    {
     "name": "stdout",
     "output_type": "stream",
     "text": [
      "(3,5)\n"
     ]
    }
   ],
   "source": [
    "class Point:\n",
    "    def __init__(self, x=0, y=0):\n",
    "        self.x = x\n",
    "        self.y = y\n",
    "\n",
    "    def __str__(self):\n",
    "        return \"({0},{1})\".format(self.x, self.y)\n",
    "\n",
    "    def __add__(self, other):\n",
    "        x = self.x + other.x\n",
    "        y = self.y + other.y\n",
    "        return Point(x, y)\n",
    "\n",
    "\n",
    "p1 = Point(1, 2)\n",
    "p2 = Point(2, 3)\n",
    "\n",
    "print(p1+p2)\n"
   ]
  },
  {
   "cell_type": "raw",
   "id": "cd63c963",
   "metadata": {},
   "source": [
    "Python does not limit operator overloading to arithmetic operators only. We can overload comparison operators as well.\n",
    "\n",
    "Here, __lt__() overloads the < operator to compare the age attribute of two objects.\n",
    "\n",
    "The __lt__() method returns,\n",
    "True - if the first object's age is less than the second object's age\n",
    "False - if the first object's age is greater than the second object's age"
   ]
  },
  {
   "cell_type": "code",
   "execution_count": 2,
   "id": "3069b590",
   "metadata": {},
   "outputs": [
    {
     "name": "stdout",
     "output_type": "stream",
     "text": [
      "True\n",
      "False\n"
     ]
    }
   ],
   "source": [
    "class Person:\n",
    "    def __init__(self, name, age):\n",
    "        self.name = name\n",
    "        self.age = age\n",
    "\n",
    "    # overload < operator\n",
    "    def __lt__(self, other):\n",
    "        return self.age < other.age\n",
    "\n",
    "p1 = Person(\"Alice\", 20)\n",
    "p2 = Person(\"Bob\", 30)\n",
    "\n",
    "print(p1 < p2)  # prints True\n",
    "print(p2 < p1)  # prints False"
   ]
  },
  {
   "cell_type": "code",
   "execution_count": null,
   "id": "5e6d68ff",
   "metadata": {},
   "outputs": [],
   "source": []
  }
 ],
 "metadata": {
  "kernelspec": {
   "display_name": "Python 3 (ipykernel)",
   "language": "python",
   "name": "python3"
  },
  "language_info": {
   "codemirror_mode": {
    "name": "ipython",
    "version": 3
   },
   "file_extension": ".py",
   "mimetype": "text/x-python",
   "name": "python",
   "nbconvert_exporter": "python",
   "pygments_lexer": "ipython3",
   "version": "3.9.13"
  }
 },
 "nbformat": 4,
 "nbformat_minor": 5
}
