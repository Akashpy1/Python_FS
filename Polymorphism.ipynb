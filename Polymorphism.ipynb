{
 "cells": [
  {
   "cell_type": "raw",
   "id": "0cffdd3f",
   "metadata": {},
   "source": [
    "##################################Duck Typing#############################\n",
    "Poly -> Many\n",
    "Morphism-> forms\n",
    "we behave in different ways when we are in different places...eg..like off and house\n",
    "Object will have multiple forms\n",
    "There are 4 ways of implementing polymorphism\n",
    "Duck typing\n",
    "Operating overloading\n",
    "Method overloading\n",
    "Method overriding\n"
   ]
  },
  {
   "cell_type": "code",
   "execution_count": 1,
   "id": "fbab7850",
   "metadata": {},
   "outputs": [
    {
     "name": "stdout",
     "output_type": "stream",
     "text": [
      "Compliling\n",
      "Running\n"
     ]
    }
   ],
   "source": [
    "class Pycharm:\n",
    "    def execute(self):\n",
    "        print(\"Compliling\")\n",
    "        print(\"Running\")\n",
    "\n",
    "       \n",
    "class laptop:\n",
    "     def code(self,ide):\n",
    "        ide.execute()\n",
    "        \n",
    "ide=Pycharm()\n",
    "\n",
    "lap1=laptop()\n",
    "lap1.code(ide)"
   ]
  },
  {
   "cell_type": "code",
   "execution_count": 2,
   "id": "783e70bf",
   "metadata": {},
   "outputs": [
    {
     "name": "stdout",
     "output_type": "stream",
     "text": [
      "Spell Check\n",
      "Convention Check\n",
      "Compliling\n",
      "Running\n"
     ]
    }
   ],
   "source": [
    "class Pycharm:\n",
    "    def execute(self):\n",
    "        print(\"Compliling\")\n",
    "        print(\"Running\")\n",
    "\n",
    "class Myeditor:\n",
    "     def execute(self):\n",
    "        print(\"Spell Check\")\n",
    "        print(\"Convention Check\")\n",
    "        print(\"Compliling\")\n",
    "        print(\"Running\")\n",
    "\n",
    "#if there is an object ide and it has a method execute we are not concerned which class it is\n",
    "        #this is duck typing\n",
    "class laptop:\n",
    "     def code(self,ide):\n",
    "        ide.execute()\n",
    "        \n",
    "ide=Myeditor()\n",
    "\n",
    "lap1=laptop()\n",
    "lap1.code(ide)"
   ]
  },
  {
   "cell_type": "code",
   "execution_count": null,
   "id": "b814488a",
   "metadata": {},
   "outputs": [],
   "source": []
  }
 ],
 "metadata": {
  "kernelspec": {
   "display_name": "Python 3 (ipykernel)",
   "language": "python",
   "name": "python3"
  },
  "language_info": {
   "codemirror_mode": {
    "name": "ipython",
    "version": 3
   },
   "file_extension": ".py",
   "mimetype": "text/x-python",
   "name": "python",
   "nbconvert_exporter": "python",
   "pygments_lexer": "ipython3",
   "version": "3.9.13"
  }
 },
 "nbformat": 4,
 "nbformat_minor": 5
}
